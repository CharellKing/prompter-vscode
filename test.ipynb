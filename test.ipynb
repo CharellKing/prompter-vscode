{
 "cells": [
  {
   "cell_type": "code",
   "execution_count": null,
   "id": "f4831532",
   "metadata": {},
   "outputs": [],
   "source": [
    "print(\"helloworld\")"
   ]
  },
  {
   "cell_type": "code",
   "execution_count": null,
   "id": "4d85c0e1",
   "metadata": {},
   "outputs": [],
   "source": [
    "x = x + 1"
   ]
  },
  {
   "cell_type": "markdown",
   "id": "9f650720",
   "metadata": {},
   "source": [
    "## This is a test\n",
    "\n",
    "### This is a test2"
   ]
  }
 ],
 "metadata": {
  "kernelspec": {
   "display_name": "Python 3",
   "language": "python",
   "name": "python3"
  },
  "language_info": {
   "name": "python",
   "version": "3.12.10"
  }
 },
 "nbformat": 4,
 "nbformat_minor": 5
}
